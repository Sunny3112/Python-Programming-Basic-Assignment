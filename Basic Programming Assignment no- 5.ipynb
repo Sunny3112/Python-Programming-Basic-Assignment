{
 "cells": [
  {
   "cell_type": "markdown",
   "id": "0bf3da40",
   "metadata": {},
   "source": [
    "# Q1. Write a Python Program to Find LCM?\n",
    "# Ans :- "
   ]
  },
  {
   "cell_type": "code",
   "execution_count": 1,
   "id": "b6e68dcd",
   "metadata": {},
   "outputs": [
    {
     "name": "stdout",
     "output_type": "stream",
     "text": [
      "Enter num1 : 3\n",
      "Enter num2 : 35\n",
      "The LCM of 3 and 35 is 105\n"
     ]
    }
   ],
   "source": [
    "x = int(input(\"Enter num1 : \"))\n",
    "y = int(input(\"Enter num2 : \"))\n",
    "\n",
    "# big no.\n",
    "if x > y:\n",
    "    big = x\n",
    "else:\n",
    "    big = y\n",
    "    \n",
    "while(True):\n",
    "    if big % x == 0 and big % y == 0 :\n",
    "        lcm = big\n",
    "        break\n",
    "    big+=1\n",
    "    \n",
    "print(\"The LCM of {} and {} is {}\".format(x,y,lcm))"
   ]
  },
  {
   "cell_type": "markdown",
   "id": "15dfce57",
   "metadata": {},
   "source": [
    "# Q2. Write a Python Program to Find HCF?\n",
    "# Ans :- "
   ]
  },
  {
   "cell_type": "code",
   "execution_count": 2,
   "id": "64b910c4",
   "metadata": {},
   "outputs": [
    {
     "name": "stdout",
     "output_type": "stream",
     "text": [
      "Enter num1 : 36\n",
      "Enter num2 : 67\n",
      "The hcf of 36 and 67 is 1\n"
     ]
    }
   ],
   "source": [
    "x = int(input(\"Enter num1 : \"))\n",
    "y = int(input(\"Enter num2 : \"))\n",
    "\n",
    "# big no\n",
    "if x < y:\n",
    "    small = x\n",
    "else:\n",
    "    small = y\n",
    "hcf = 0   \n",
    "for i in range(1,small+1):\n",
    "    if x % i == 0 and y % i == 0 :\n",
    "        hcf = i\n",
    "    \n",
    "print(\"The hcf of {} and {} is {}\".format(x,y,hcf))"
   ]
  },
  {
   "cell_type": "markdown",
   "id": "54e725ac",
   "metadata": {},
   "source": [
    "# Q3. Write a Python Program to Convert Decimal to Binary, Octal and Hexadecimal?\n",
    "# Ans :- "
   ]
  },
  {
   "cell_type": "code",
   "execution_count": 3,
   "id": "2726a4e0",
   "metadata": {},
   "outputs": [
    {
     "name": "stdout",
     "output_type": "stream",
     "text": [
      "Enter number :46\n",
      "46 in binary :  0b101110\n",
      "46 in Octal :  0o56\n",
      "46 in Hexadecimal :  0x2e\n"
     ]
    }
   ],
   "source": [
    "x=int(input(\"Enter number :\"))\n",
    "\n",
    "print(x, \"in binary : \", bin(x))\n",
    "print(x, \"in Octal : \", oct(x))\n",
    "print(x, \"in Hexadecimal : \",hex(x))"
   ]
  },
  {
   "cell_type": "markdown",
   "id": "05072d66",
   "metadata": {},
   "source": [
    "# Q4. Write a Python Program To Find ASCII value of a character?\n",
    "# Ans :- "
   ]
  },
  {
   "cell_type": "code",
   "execution_count": 4,
   "id": "e8070a91",
   "metadata": {},
   "outputs": [
    {
     "name": "stdout",
     "output_type": "stream",
     "text": [
      "Enter a Charecter : 9\n",
      "Ascii value of 9 is 57\n"
     ]
    }
   ],
   "source": [
    "str = input(\"Enter a Charecter : \")\n",
    "# ord gives the ASCII value of a character\n",
    "print(\"Ascii value of {} is {}\".format(str,ord(str)))"
   ]
  },
  {
   "cell_type": "markdown",
   "id": "770f1b99",
   "metadata": {},
   "source": [
    "# Q5. Write a Python Program to Make a Simple Calculator with 4 basic mathematical operations?\n",
    "# Ans :- "
   ]
  },
  {
   "cell_type": "code",
   "execution_count": 5,
   "id": "59e77115",
   "metadata": {},
   "outputs": [
    {
     "name": "stdout",
     "output_type": "stream",
     "text": [
      "Enter num1 :9\n",
      "Enter num2 :13\n",
      "Enter + to add : \n",
      "Enter - to Sub :\n",
      "Enter * to multi :\n",
      "Enter / to div : 9\n",
      "Invalid input\n"
     ]
    }
   ],
   "source": [
    "x = float(input(\"Enter num1 :\"))\n",
    "y = float(input(\"Enter num2 :\"))\n",
    "\n",
    "op = input(\"Enter + to add : \\nEnter - to Sub :\\nEnter * to multi :\\nEnter / to div : \") \n",
    "\n",
    "add = x + y\n",
    "sub = x - y\n",
    "mul = x * y\n",
    "\n",
    "\n",
    "if op == \"+\":\n",
    "    print(\"{} + {} = {}\".format(x,y,add))\n",
    "elif op == \"-\":\n",
    "    print(\"{} - {} = {}\".format(x,y,sub))\n",
    "elif op == \"*\":\n",
    "    print(\"{} * {} = {}\".format(x,y,mul))\n",
    "elif op == \"/\":\n",
    "    if num1 == 0 or num2 == 0:\n",
    "        print(\"Division with zero is not possible\")\n",
    "    else:\n",
    "        div = x / y\n",
    "        print(\"{} / {} = {}\".format(x,y,div))\n",
    "else:\n",
    "    print(\"Invalid input\")"
   ]
  },
  {
   "cell_type": "code",
   "execution_count": null,
   "id": "a707319d",
   "metadata": {},
   "outputs": [],
   "source": []
  }
 ],
 "metadata": {
  "kernelspec": {
   "display_name": "Python 3 (ipykernel)",
   "language": "python",
   "name": "python3"
  },
  "language_info": {
   "codemirror_mode": {
    "name": "ipython",
    "version": 3
   },
   "file_extension": ".py",
   "mimetype": "text/x-python",
   "name": "python",
   "nbconvert_exporter": "python",
   "pygments_lexer": "ipython3",
   "version": "3.9.7"
  },
  "varInspector": {
   "cols": {
    "lenName": 16,
    "lenType": 16,
    "lenVar": 40
   },
   "kernels_config": {
    "python": {
     "delete_cmd_postfix": "",
     "delete_cmd_prefix": "del ",
     "library": "var_list.py",
     "varRefreshCmd": "print(var_dic_list())"
    },
    "r": {
     "delete_cmd_postfix": ") ",
     "delete_cmd_prefix": "rm(",
     "library": "var_list.r",
     "varRefreshCmd": "cat(var_dic_list()) "
    }
   },
   "types_to_exclude": [
    "module",
    "function",
    "builtin_function_or_method",
    "instance",
    "_Feature"
   ],
   "window_display": false
  }
 },
 "nbformat": 4,
 "nbformat_minor": 5
}
