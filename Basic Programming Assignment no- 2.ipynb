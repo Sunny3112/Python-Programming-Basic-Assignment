{
 "cells": [
  {
   "cell_type": "markdown",
   "id": "1ee5c602",
   "metadata": {},
   "source": [
    "# Q1. Write a Python program to convert kilometers to miles?\n",
    "# Ans :- "
   ]
  },
  {
   "cell_type": "code",
   "execution_count": 1,
   "id": "5236ac5d",
   "metadata": {},
   "outputs": [
    {
     "name": "stdout",
     "output_type": "stream",
     "text": [
      "Enter Kilometer: 9\n",
      "Miles =  5.58\n"
     ]
    }
   ],
   "source": [
    "km = int(input(\"Enter Kilometer: \"))\n",
    "miles = km*0.62\n",
    "print(\"Miles = \" , miles)"
   ]
  },
  {
   "cell_type": "markdown",
   "id": "3d230214",
   "metadata": {},
   "source": [
    "# Q2. Write a Python program to convert Celsius to Fahrenheit?\n",
    "# Ans :-"
   ]
  },
  {
   "cell_type": "code",
   "execution_count": 2,
   "id": "db86d44a",
   "metadata": {},
   "outputs": [
    {
     "name": "stdout",
     "output_type": "stream",
     "text": [
      "Enter Celsius : 9\n",
      "48.2\n"
     ]
    }
   ],
   "source": [
    "Celsius = int(input(\"Enter Celsius : \"))\n",
    "\n",
    "fahrenheit = (Celsius * 9/5) +32\n",
    "print(fahrenheit)"
   ]
  },
  {
   "cell_type": "markdown",
   "id": "a4fda113",
   "metadata": {},
   "source": [
    "# Q3. Write a Python program to display calendar?\n",
    "# Ans :-"
   ]
  },
  {
   "cell_type": "code",
   "execution_count": 3,
   "id": "20f1f7fb",
   "metadata": {},
   "outputs": [
    {
     "name": "stdout",
     "output_type": "stream",
     "text": [
      "Enter year = 1995\n",
      "Enter month in number = 09\n",
      "   September 1995\n",
      "Mo Tu We Th Fr Sa Su\n",
      "             1  2  3\n",
      " 4  5  6  7  8  9 10\n",
      "11 12 13 14 15 16 17\n",
      "18 19 20 21 22 23 24\n",
      "25 26 27 28 29 30\n",
      "\n"
     ]
    }
   ],
   "source": [
    "import calendar\n",
    "yy = int(input(\"Enter year = \"))\n",
    "mm = int(input(\"Enter month in number = \"))\n",
    "print(calendar.month(yy,mm))"
   ]
  },
  {
   "cell_type": "markdown",
   "id": "280e83d8",
   "metadata": {},
   "source": [
    "# Q4. Write a Python program to solve quadratic equation?\n",
    "# Ans :-"
   ]
  },
  {
   "cell_type": "code",
   "execution_count": 4,
   "id": "d384390b",
   "metadata": {},
   "outputs": [
    {
     "name": "stdout",
     "output_type": "stream",
     "text": [
      "Enter a = 9\n",
      "Enter b = 9\n",
      "Enter c = 9\n",
      "(-0.5+0.8660254037844387j) , (-0.5-0.8660254037844387j)\n"
     ]
    }
   ],
   "source": [
    "# Formula:\n",
    "# x=-b+-sqrt(b**2-4ac)/2*a\n",
    "import cmath\n",
    "a=int(input(\"Enter a = \"))\n",
    "b=int(input(\"Enter b = \"))\n",
    "c=int(input(\"Enter c = \"))\n",
    "discriminant = (b**2)-(4*a*c)\n",
    "sol_one = (-b+cmath.sqrt(discriminant))/(2*a)\n",
    "sol_two = (-b-cmath.sqrt(discriminant))/(2*a)\n",
    "print(sol_one ,\",\", sol_two)"
   ]
  },
  {
   "cell_type": "markdown",
   "id": "83b2071c",
   "metadata": {},
   "source": [
    "# Q5. Write a Python program to swap two variables without temp variable?\n",
    "# Ans :-"
   ]
  },
  {
   "cell_type": "code",
   "execution_count": 6,
   "id": "1f0549fb",
   "metadata": {},
   "outputs": [
    {
     "name": "stdout",
     "output_type": "stream",
     "text": [
      "First Variable =9\n",
      "Second Variable =13\n",
      "First Variable Before swap  : 9 \n",
      " Second variable Before Swap  : 13\n",
      "After Swap : \n",
      " First Variabe : 13 \n",
      "  Second Variable : 9\n"
     ]
    }
   ],
   "source": [
    "first_variable = int(input(\"First Variable =\"))\n",
    "second_variable = int(input(\"Second Variable =\"))\n",
    "print(\"First Variable Before swap  : {} \\n Second variable Before Swap  : {}\".format(first_variable,second_variable))\n",
    "first_variable , second_variable = second_variable , first_variable\n",
    "\n",
    "print(\"After Swap : \\n First Variabe : {} \\n  Second Variable : {}\".format(first_variable , second_variable))\n"
   ]
  },
  {
   "cell_type": "code",
   "execution_count": null,
   "id": "b6cbb38d",
   "metadata": {},
   "outputs": [],
   "source": []
  },
  {
   "cell_type": "code",
   "execution_count": null,
   "id": "b685a7b4",
   "metadata": {},
   "outputs": [],
   "source": []
  }
 ],
 "metadata": {
  "kernelspec": {
   "display_name": "Python 3 (ipykernel)",
   "language": "python",
   "name": "python3"
  },
  "language_info": {
   "codemirror_mode": {
    "name": "ipython",
    "version": 3
   },
   "file_extension": ".py",
   "mimetype": "text/x-python",
   "name": "python",
   "nbconvert_exporter": "python",
   "pygments_lexer": "ipython3",
   "version": "3.9.7"
  },
  "varInspector": {
   "cols": {
    "lenName": 16,
    "lenType": 16,
    "lenVar": 40
   },
   "kernels_config": {
    "python": {
     "delete_cmd_postfix": "",
     "delete_cmd_prefix": "del ",
     "library": "var_list.py",
     "varRefreshCmd": "print(var_dic_list())"
    },
    "r": {
     "delete_cmd_postfix": ") ",
     "delete_cmd_prefix": "rm(",
     "library": "var_list.r",
     "varRefreshCmd": "cat(var_dic_list()) "
    }
   },
   "types_to_exclude": [
    "module",
    "function",
    "builtin_function_or_method",
    "instance",
    "_Feature"
   ],
   "window_display": false
  }
 },
 "nbformat": 4,
 "nbformat_minor": 5
}
