{
 "cells": [
  {
   "cell_type": "markdown",
   "id": "3ca82c92",
   "metadata": {},
   "source": [
    "# Q1. Write a Python Program to Add Two Matrices?\n",
    "# Ans :- "
   ]
  },
  {
   "cell_type": "code",
   "execution_count": 1,
   "id": "18d12b7b",
   "metadata": {},
   "outputs": [
    {
     "name": "stdout",
     "output_type": "stream",
     "text": [
      "The Sum of two matrix \n",
      "\n",
      "[[ 1  4  6]\n",
      " [ 7  5 88]\n",
      " [ 8  5 77]]  and \n",
      "\n",
      "[[12 43 74]\n",
      " [ 5  8  3]\n",
      " [ 8  9  9]]  is \n",
      "\n",
      "[[13 47 80]\n",
      " [12 13 91]\n",
      " [16 14 86]] \n"
     ]
    }
   ],
   "source": [
    "import numpy as np\n",
    "\n",
    "mat1 = np.array([[1,4,6],\n",
    "        [7,5,88],\n",
    "        [8,5,77]])\n",
    "mat2 = np.array([[12,43,74],\n",
    "        [5,8,3],\n",
    "        [8,9,9]])\n",
    "\n",
    "Matsum = np.add(mat1,mat2)\n",
    "print(\"The Sum of two matrix \\n\\n{}  and \\n\\n{}  is \\n\\n{} \".format(mat1,mat2,Matsum))"
   ]
  },
  {
   "cell_type": "markdown",
   "id": "b871d117",
   "metadata": {},
   "source": [
    "# Q2. Write a Python Program to Multiply Two Matrices?\n",
    "# Ans :- "
   ]
  },
  {
   "cell_type": "code",
   "execution_count": 2,
   "id": "8ae36609",
   "metadata": {},
   "outputs": [
    {
     "name": "stdout",
     "output_type": "stream",
     "text": [
      "The product of two matrix \n",
      "\n",
      "[[13 42 64]\n",
      " [ 3  7  4]\n",
      " [ 9  1  2]]  and \n",
      "\n",
      "[[ 2  4  7]\n",
      " [55 67  8]\n",
      " [ 8  9  1]]  is \n",
      "\n",
      "[[2848 3442  491]\n",
      " [ 423  517   81]\n",
      " [  89  121   73]] \n"
     ]
    }
   ],
   "source": [
    "import numpy as np\n",
    "\n",
    "mat1 = np.array([[13,42,64],\n",
    "        [3,7,4],\n",
    "        [9,1,2]])\n",
    "mat2 = np.array([[2,4,7],\n",
    "        [55,67,8],\n",
    "        [8,9,1]])\n",
    "\n",
    "mulMat = np.dot(mat1,mat2)\n",
    "print(\"The product of two matrix \\n\\n{}  and \\n\\n{}  is \\n\\n{} \".format(mat1,mat2,mulMat))"
   ]
  },
  {
   "cell_type": "markdown",
   "id": "da1503c2",
   "metadata": {},
   "source": [
    "# Q3. Write a Python Program to Transpose a Matrix?\n",
    "# Ans :- "
   ]
  },
  {
   "cell_type": "code",
   "execution_count": 4,
   "id": "39cbda91",
   "metadata": {},
   "outputs": [
    {
     "name": "stdout",
     "output_type": "stream",
     "text": [
      "Enter N for N x N matrix: 3\n",
      "Enter the element :\n",
      "5\n",
      "2\n",
      "6\n",
      "4\n",
      "2\n",
      "6\n",
      "7\n",
      "3\n",
      "6\n",
      "Display Array M1 In Matrix Form\n",
      "5 2 6 \n",
      "4 2 6 \n",
      "7 3 6 \n",
      "Transposed Matrix\n",
      "[5, 4, 7]\n",
      "[2, 2, 3]\n",
      "[6, 6, 6]\n"
     ]
    }
   ],
   "source": [
    "def Matrix(n,v=0):\n",
    "    M=[]             \n",
    "    for i in range(n):\n",
    "        \n",
    "        row =[]\n",
    "        for j in range(n):\n",
    "            row.append(v)\n",
    "        M.append(row)\n",
    "    return(M)\n",
    "\n",
    "def crMatrix(n):\n",
    "    \n",
    "    M=[]             \n",
    "    print(\"Enter the element :\")\n",
    "    for i in range(n):\n",
    "        #stor row\n",
    "        row =[]\n",
    "        for j in range(n):\n",
    "            row.append(int(input()))\n",
    "        M.append(row)\n",
    "    return(M)\n",
    "\n",
    "def prMatrix(M,n):\n",
    "    for i in range(n):\n",
    "        for j in range(n):\n",
    "            print(M[i][j], end=\" \")\n",
    "        print() \n",
    "\n",
    "def tpMatrix(M,n,result):\n",
    "    for i in range(n):\n",
    "        for j in range(n):\n",
    "            result[i][j]= M[j][i]\n",
    "    return result\n",
    "\n",
    "n=int(input(\"Enter N for N x N matrix: \"))       \n",
    "M1 = crMatrix(n)\n",
    "\n",
    "print(\"Display Array M1 In Matrix Form\")\n",
    "prMatrix(M1,n)\n",
    "\n",
    "result = Matrix(n)\n",
    "result = tpMatrix(M1,n,result)\n",
    "print(\"Transposed Matrix\")\n",
    "for r in result:\n",
    "    print(r)       "
   ]
  },
  {
   "attachments": {},
   "cell_type": "markdown",
   "id": "b8634cb6",
   "metadata": {},
   "source": [
    " # Q4. Write a Python Program to Sort Words in Alphabetic Order?\n",
    " # Ans :-"
   ]
  },
  {
   "cell_type": "code",
   "execution_count": 5,
   "id": "bcbf54d7",
   "metadata": {},
   "outputs": [
    {
     "name": "stdout",
     "output_type": "stream",
     "text": [
      "Enter string5\n",
      "5\n"
     ]
    }
   ],
   "source": [
    "Arr = input(\"Enter string\")\n",
    "\n",
    "words = Arr.split()\n",
    "words.sort()\n",
    "for word in words:\n",
    "    print(word)"
   ]
  },
  {
   "attachments": {},
   "cell_type": "markdown",
   "id": "ecea43d1",
   "metadata": {},
   "source": [
    "# Q5. Write a Python Program to Remove Punctuation From a String?\n",
    "# Ans :- "
   ]
  },
  {
   "cell_type": "code",
   "execution_count": 6,
   "id": "fc88ff17",
   "metadata": {},
   "outputs": [
    {
     "name": "stdout",
     "output_type": "stream",
     "text": [
      "Enter a string with punctuations2\n",
      "2\n"
     ]
    }
   ],
   "source": [
    "punctuations = '''!()-[]{};:'\"\\,<>./?@#$%^&*_~'''\n",
    "\n",
    "Arr = input(\"Enter a string with punctuations\")\n",
    "\n",
    "\n",
    "rem_punc = \"\"\n",
    "for i in Arr:\n",
    "    if i not in punctuations:\n",
    "        rem_punc = rem_punc + i\n",
    "\n",
    "# display \n",
    "print(rem_punc)"
   ]
  },
  {
   "cell_type": "markdown",
   "id": "3cb3adb2",
   "metadata": {},
   "source": []
  }
 ],
 "metadata": {
  "kernelspec": {
   "display_name": "Python 3 (ipykernel)",
   "language": "python",
   "name": "python3"
  },
  "language_info": {
   "codemirror_mode": {
    "name": "ipython",
    "version": 3
   },
   "file_extension": ".py",
   "mimetype": "text/x-python",
   "name": "python",
   "nbconvert_exporter": "python",
   "pygments_lexer": "ipython3",
   "version": "3.9.7"
  },
  "varInspector": {
   "cols": {
    "lenName": 16,
    "lenType": 16,
    "lenVar": 40
   },
   "kernels_config": {
    "python": {
     "delete_cmd_postfix": "",
     "delete_cmd_prefix": "del ",
     "library": "var_list.py",
     "varRefreshCmd": "print(var_dic_list())"
    },
    "r": {
     "delete_cmd_postfix": ") ",
     "delete_cmd_prefix": "rm(",
     "library": "var_list.r",
     "varRefreshCmd": "cat(var_dic_list()) "
    }
   },
   "types_to_exclude": [
    "module",
    "function",
    "builtin_function_or_method",
    "instance",
    "_Feature"
   ],
   "window_display": false
  }
 },
 "nbformat": 4,
 "nbformat_minor": 5
}
