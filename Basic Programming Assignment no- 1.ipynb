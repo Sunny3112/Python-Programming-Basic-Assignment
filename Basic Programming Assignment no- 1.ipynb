{
 "cells": [
  {
   "cell_type": "markdown",
   "id": "dc9f11ad",
   "metadata": {},
   "source": [
    "# Q1. Write a Python program to print \"Hello Python\"?\n",
    "# Ans :-"
   ]
  },
  {
   "cell_type": "code",
   "execution_count": 4,
   "id": "0a26e097",
   "metadata": {},
   "outputs": [
    {
     "name": "stdout",
     "output_type": "stream",
     "text": [
      "Hello Python\n"
     ]
    }
   ],
   "source": [
    "print(\"Hello Python\")"
   ]
  },
  {
   "cell_type": "markdown",
   "id": "a7bf35f4",
   "metadata": {},
   "source": [
    "# Q2.\tWrite a Python program to do arithmetical operations addition and division.?\n",
    "# Ans:-"
   ]
  },
  {
   "cell_type": "code",
   "execution_count": 3,
   "id": "262368ff",
   "metadata": {},
   "outputs": [],
   "source": [
    "def add(a,b):\n",
    "    return a+b\n",
    "\n",
    "def divide(a,b):\n",
    "    return a/b"
   ]
  },
  {
   "cell_type": "code",
   "execution_count": 7,
   "id": "f7a1dfa9",
   "metadata": {},
   "outputs": [
    {
     "data": {
      "text/plain": [
       "22"
      ]
     },
     "execution_count": 7,
     "metadata": {},
     "output_type": "execute_result"
    }
   ],
   "source": [
    "add(9,13)"
   ]
  },
  {
   "cell_type": "code",
   "execution_count": 8,
   "id": "6a497bb9",
   "metadata": {},
   "outputs": [
    {
     "data": {
      "text/plain": [
       "0.6923076923076923"
      ]
     },
     "execution_count": 8,
     "metadata": {},
     "output_type": "execute_result"
    }
   ],
   "source": [
    "divide(9,13)"
   ]
  },
  {
   "cell_type": "markdown",
   "id": "7b03a219",
   "metadata": {},
   "source": [
    "# Q. 3.\tWrite a Python program to find the area of a triangle?\n",
    "# Ans :- "
   ]
  },
  {
   "cell_type": "code",
   "execution_count": 9,
   "id": "4ba6c69d",
   "metadata": {},
   "outputs": [
    {
     "name": "stdout",
     "output_type": "stream",
     "text": [
      "Enter the base of Triangle =9\n",
      "Enter the height of Triangle = 13\n",
      "The Area of Triangle of Base 9 , Height 13 is 58.5\n"
     ]
    }
   ],
   "source": [
    "base = int(input(\"Enter the base of Triangle =\"))\n",
    "Height = int(input(\"Enter the height of Triangle = \"))\n",
    "Area = (Height*base)/2\n",
    "print(\"The Area of Triangle of Base {} , Height {} is {}\".format(base , Height , Area))"
   ]
  },
  {
   "cell_type": "markdown",
   "id": "b408fdcb",
   "metadata": {},
   "source": [
    "# Q4. Write a Python program to swap two variables?\n",
    "# Ans :-"
   ]
  },
  {
   "cell_type": "code",
   "execution_count": 10,
   "id": "02dc50d0",
   "metadata": {},
   "outputs": [
    {
     "name": "stdout",
     "output_type": "stream",
     "text": [
      "First Variable =9\n",
      "Second Variable =13\n",
      "First Variable Before swap  : 9 \n",
      " Second variable Before Swap  : 13\n",
      "After Swap : \n",
      " First Variabe : 13 \n",
      "  Second Variable : 9\n"
     ]
    }
   ],
   "source": [
    "first_variable = int(input(\"First Variable =\"))\n",
    "second_variable = int(input(\"Second Variable =\"))\n",
    "print(\"First Variable Before swap  : {} \\n Second variable Before Swap  : {}\".format(first_variable,second_variable))\n",
    "first_variable , second_variable = second_variable , first_variable\n",
    "\n",
    "print(\"After Swap : \\n First Variabe : {} \\n  Second Variable : {}\".format(first_variable , second_variable))"
   ]
  },
  {
   "cell_type": "markdown",
   "id": "a6e5f391",
   "metadata": {},
   "source": [
    "# Q5. Write a Python program to generate a random number?\n",
    "# Ans :- "
   ]
  },
  {
   "cell_type": "code",
   "execution_count": 11,
   "id": "be8dd506",
   "metadata": {},
   "outputs": [
    {
     "name": "stdout",
     "output_type": "stream",
     "text": [
      "2\n"
     ]
    }
   ],
   "source": [
    "import random\n",
    "print(random.randint(0,6))"
   ]
  },
  {
   "cell_type": "code",
   "execution_count": null,
   "id": "8fcb0abd",
   "metadata": {},
   "outputs": [],
   "source": []
  }
 ],
 "metadata": {
  "kernelspec": {
   "display_name": "Python 3 (ipykernel)",
   "language": "python",
   "name": "python3"
  },
  "language_info": {
   "codemirror_mode": {
    "name": "ipython",
    "version": 3
   },
   "file_extension": ".py",
   "mimetype": "text/x-python",
   "name": "python",
   "nbconvert_exporter": "python",
   "pygments_lexer": "ipython3",
   "version": "3.9.7"
  },
  "varInspector": {
   "cols": {
    "lenName": 16,
    "lenType": 16,
    "lenVar": 40
   },
   "kernels_config": {
    "python": {
     "delete_cmd_postfix": "",
     "delete_cmd_prefix": "del ",
     "library": "var_list.py",
     "varRefreshCmd": "print(var_dic_list())"
    },
    "r": {
     "delete_cmd_postfix": ") ",
     "delete_cmd_prefix": "rm(",
     "library": "var_list.r",
     "varRefreshCmd": "cat(var_dic_list()) "
    }
   },
   "types_to_exclude": [
    "module",
    "function",
    "builtin_function_or_method",
    "instance",
    "_Feature"
   ],
   "window_display": false
  }
 },
 "nbformat": 4,
 "nbformat_minor": 5
}
